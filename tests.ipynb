{
 "cells": [
  {
   "cell_type": "code",
   "execution_count": 1,
   "metadata": {},
   "outputs": [],
   "source": [
    "from minigrad import Scalar, draw_graph"
   ]
  },
  {
   "cell_type": "code",
   "execution_count": 2,
   "metadata": {},
   "outputs": [],
   "source": [
    "from torch import tensor\n",
    "from jax import grad"
   ]
  },
  {
   "cell_type": "code",
   "execution_count": 3,
   "metadata": {},
   "outputs": [],
   "source": [
    "def is_close(x, y, z=None, eps=1e-10):\n",
    "    if z is None: return abs(x-y) < eps\n",
    "    return abs(x-y) < eps and abs(y-z) < eps and abs(x-z) < eps"
   ]
  },
  {
   "cell_type": "markdown",
   "metadata": {},
   "source": [
    "# Verify gradients against PyTorch and JAX"
   ]
  },
  {
   "cell_type": "code",
   "execution_count": 4,
   "metadata": {},
   "outputs": [
    {
     "name": "stderr",
     "output_type": "stream",
     "text": [
      "/Users/kennysong/GDrive/Projects/minigrad/env/lib/python3.7/site-packages/jax/lib/xla_bridge.py:123: UserWarning: No GPU/TPU found, falling back to CPU.\n",
      "  warnings.warn('No GPU/TPU found, falling back to CPU.')\n"
     ]
    }
   ],
   "source": [
    "def f1(x, y):\n",
    "    '''From \"Hands-On Machine Learning with Scikit-Learn, Keras, and TensorFlow, 2nd Edition\", page 770.'''\n",
    "    n4 = x*x\n",
    "    n5 = n4 * y\n",
    "    n6 = y + 2\n",
    "    n7 = n5 + n6\n",
    "    return n7\n",
    "\n",
    "# Compute gradients with MiniGrad\n",
    "x = Scalar(3.0)\n",
    "y = Scalar(4.0)\n",
    "out = f1(x, y)\n",
    "out.backward()\n",
    "\n",
    "# Compute gradients with PyTorch\n",
    "x_p = tensor(3.0, requires_grad=True)\n",
    "y_p = tensor(4.0, requires_grad=True)\n",
    "out_p = f1(x_p, y_p)\n",
    "out_p.backward()\n",
    "\n",
    "# Compute gradients with JAX\n",
    "x_j_grad, y_j_grad = grad(f1, (0, 1))(3.0, 4.0)\n",
    "\n",
    "# Check that gradients are equivalent\n",
    "assert is_close(x.grad, x_p.grad, float(x_j_grad))\n",
    "assert is_close(y.grad, y_p.grad, float(y_j_grad))\n",
    "# draw_graph(out)"
   ]
  },
  {
   "cell_type": "code",
   "execution_count": 5,
   "metadata": {},
   "outputs": [],
   "source": [
    "def f2(a, b):\n",
    "    '''From https://github.com/karpathy/micrograd.'''\n",
    "    c = a + b\n",
    "    d = a * b + b**3\n",
    "    c += c + 1\n",
    "    c += 1 + c + (-a)\n",
    "    d += d * 2 + (b + a).relu()\n",
    "    d += 3 * d + (b - a).relu()\n",
    "    e = c - d\n",
    "    f = e**2\n",
    "    g = f / 2.0\n",
    "    g += 10.0 / f\n",
    "    return g\n",
    "\n",
    "# Compute gradients with MiniGrad\n",
    "a = Scalar(-4.0)\n",
    "b = Scalar(2.0)\n",
    "out = f2(a, b)\n",
    "out.backward()\n",
    "\n",
    "# Compute gradients with PyTorch\n",
    "a_p = tensor(-4.0, requires_grad=True)\n",
    "b_p = tensor(2.0, requires_grad=True)\n",
    "out_p = f2(a_p, b_p)\n",
    "out_p.backward()\n",
    "\n",
    "# JAX doesn't work here since its scalars don't support .relu(), and I'm lazy\n",
    "# a_j_grad, b_j_grad = grad(f2, (0, 1))(-4.0, 2.0)\n",
    "\n",
    "assert is_close(a.grad, a_p.grad)\n",
    "assert is_close(b.grad, b_p.grad)\n",
    "# draw_graph(out)"
   ]
  }
 ],
 "metadata": {
  "kernelspec": {
   "display_name": "Python 3",
   "language": "python",
   "name": "python3"
  },
  "language_info": {
   "codemirror_mode": {
    "name": "ipython",
    "version": 3
   },
   "file_extension": ".py",
   "mimetype": "text/x-python",
   "name": "python",
   "nbconvert_exporter": "python",
   "pygments_lexer": "ipython3",
   "version": "3.7.6"
  }
 },
 "nbformat": 4,
 "nbformat_minor": 4
}
